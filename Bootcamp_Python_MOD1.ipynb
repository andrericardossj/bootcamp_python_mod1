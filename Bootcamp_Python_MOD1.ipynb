{
  "nbformat": 4,
  "nbformat_minor": 0,
  "metadata": {
    "colab": {
      "name": "Bootcamp Python MOD1",
      "provenance": [],
      "collapsed_sections": [],
      "authorship_tag": "ABX9TyNOWWi2UGgM2ADwNzsK2jpd",
      "include_colab_link": true
    },
    "kernelspec": {
      "name": "python3",
      "display_name": "Python 3"
    },
    "language_info": {
      "name": "python"
    }
  },
  "cells": [
    {
      "cell_type": "markdown",
      "metadata": {
        "id": "view-in-github",
        "colab_type": "text"
      },
      "source": [
        "<a href=\"https://colab.research.google.com/github/andrericardossj/bootcamp_python_mod1/blob/main/Bootcamp_Python_MOD1.ipynb\" target=\"_parent\"><img src=\"https://colab.research.google.com/assets/colab-badge.svg\" alt=\"Open In Colab\"/></a>"
      ]
    },
    {
      "cell_type": "markdown",
      "metadata": {
        "id": "OD76L3WackIr"
      },
      "source": [
        "**Primeiros passos em Python**"
      ]
    },
    {
      "cell_type": "code",
      "metadata": {
        "colab": {
          "base_uri": "https://localhost:8080/"
        },
        "id": "0s1ZrL1ecpil",
        "outputId": "759e0247-805c-432d-dc20-56df2ef852a9"
      },
      "source": [
        "#title Texto de título padrão\n",
        "5+5"
      ],
      "execution_count": null,
      "outputs": [
        {
          "output_type": "execute_result",
          "data": {
            "text/plain": [
              "10"
            ]
          },
          "metadata": {
            "tags": []
          },
          "execution_count": 1
        }
      ]
    },
    {
      "cell_type": "code",
      "metadata": {
        "colab": {
          "base_uri": "https://localhost:8080/"
        },
        "id": "8q3eqLmAcwhb",
        "outputId": "4aec2615-edf0-48ee-c774-a56406ab4e6c"
      },
      "source": [
        "10-2"
      ],
      "execution_count": null,
      "outputs": [
        {
          "output_type": "execute_result",
          "data": {
            "text/plain": [
              "8"
            ]
          },
          "metadata": {
            "tags": []
          },
          "execution_count": 2
        }
      ]
    },
    {
      "cell_type": "code",
      "metadata": {
        "colab": {
          "base_uri": "https://localhost:8080/"
        },
        "id": "LU11GrJicyM1",
        "outputId": "71f92515-ea1a-4d0a-9e32-53f16390b157"
      },
      "source": [
        "50/2"
      ],
      "execution_count": null,
      "outputs": [
        {
          "output_type": "execute_result",
          "data": {
            "text/plain": [
              "25.0"
            ]
          },
          "metadata": {
            "tags": []
          },
          "execution_count": 4
        }
      ]
    },
    {
      "cell_type": "code",
      "metadata": {
        "colab": {
          "base_uri": "https://localhost:8080/"
        },
        "id": "4EcdsX8ec0aL",
        "outputId": "49dbf0f3-a9bd-440c-fc0b-8d616b613e64"
      },
      "source": [
        "print(5+5)"
      ],
      "execution_count": null,
      "outputs": [
        {
          "output_type": "stream",
          "text": [
            "10\n"
          ],
          "name": "stdout"
        }
      ]
    },
    {
      "cell_type": "markdown",
      "metadata": {
        "id": "lm4jRINNzpdI"
      },
      "source": [
        "**Indentação em Python**"
      ]
    },
    {
      "cell_type": "code",
      "metadata": {
        "colab": {
          "base_uri": "https://localhost:8080/"
        },
        "id": "fU68mm4izvl3",
        "outputId": "71a923fd-ddb3-4f3a-b380-f80f6e56e260"
      },
      "source": [
        "if 10 > 5:\n",
        "  print('Dez é maior do que cinco')"
      ],
      "execution_count": null,
      "outputs": [
        {
          "output_type": "stream",
          "text": [
            "Dez é maior do que cinco\n"
          ],
          "name": "stdout"
        }
      ]
    },
    {
      "cell_type": "code",
      "metadata": {
        "id": "Pcv99_aj2qHx"
      },
      "source": [
        "if 10 > 5:\n",
        "print('Dez é maior do que cinco') #indentação com erro"
      ],
      "execution_count": null,
      "outputs": []
    },
    {
      "cell_type": "markdown",
      "metadata": {
        "id": "ms004cIf2tWb"
      },
      "source": [
        "**Variáveis em Python**"
      ]
    },
    {
      "cell_type": "markdown",
      "metadata": {
        "id": "SYaMaUYP2zUM"
      },
      "source": [
        "Regras básicas para criação de variáveis:\n",
        "\n",
        "Deve começar com uma letra //\n",
        "Os próximos podem ser letras ou números //\n",
        "**Não** pode utilizar nenhum simbolo (exceto _ ) //\n",
        "**Não** pode conter espaços em branco //\n",
        "**Não** pode conter letras com acento"
      ]
    },
    {
      "cell_type": "code",
      "metadata": {
        "colab": {
          "base_uri": "https://localhost:8080/"
        },
        "id": "K_gR_xIi3r4p",
        "outputId": "78f5a069-9ba9-43cc-d341-3f0fabf2beae"
      },
      "source": [
        "x = 5\n",
        "print(x)"
      ],
      "execution_count": null,
      "outputs": [
        {
          "output_type": "stream",
          "text": [
            "5\n"
          ],
          "name": "stdout"
        }
      ]
    },
    {
      "cell_type": "code",
      "metadata": {
        "colab": {
          "base_uri": "https://localhost:8080/"
        },
        "id": "BrV0kx5R4lMc",
        "outputId": "ef0da753-c50a-4cc8-951d-286ea85e3b15"
      },
      "source": [
        "y = 'texto'\n",
        "print(y)"
      ],
      "execution_count": null,
      "outputs": [
        {
          "output_type": "stream",
          "text": [
            "texto\n"
          ],
          "name": "stdout"
        }
      ]
    },
    {
      "cell_type": "markdown",
      "metadata": {
        "id": "0wYMcoooAS3D"
      },
      "source": [
        "**Comentários em Python**"
      ]
    },
    {
      "cell_type": "code",
      "metadata": {
        "id": "l83xa-VPAk60"
      },
      "source": [
        "# criando uma variável do tipo numérico em python\n",
        "num = 10\n"
      ],
      "execution_count": null,
      "outputs": []
    },
    {
      "cell_type": "code",
      "metadata": {
        "id": "z_0x754YCV0d"
      },
      "source": [
        "#criando uma variável do tipo string \n",
        "texto = 'água'"
      ],
      "execution_count": null,
      "outputs": []
    },
    {
      "cell_type": "markdown",
      "metadata": {
        "id": "abT2wl0BKAWC"
      },
      "source": [
        "**String em Python**"
      ]
    },
    {
      "cell_type": "code",
      "metadata": {
        "id": "aOrwLk9vKDXf"
      },
      "source": [
        "rua = 'Rua do Catete - '\n",
        "numero = \"153 - \"\n",
        "bairro = 'Catete - '\n",
        "cidade = 'Rio de Janeiro - '\n",
        "estado = \"RJ - \"\n",
        "cep = '22220-000'"
      ],
      "execution_count": null,
      "outputs": []
    },
    {
      "cell_type": "code",
      "metadata": {
        "colab": {
          "base_uri": "https://localhost:8080/"
        },
        "id": "iXZwBUicK38y",
        "outputId": "787d91b5-c9f0-4de7-eb36-199c8b044d5f"
      },
      "source": [
        "endereco = rua + numero + bairro + cidade + estado + cep\n",
        "print(endereco)"
      ],
      "execution_count": null,
      "outputs": [
        {
          "output_type": "stream",
          "text": [
            "Rua do Catete - 153 - Catete - Rio de Janeiro - RJ - 22220-000\n"
          ],
          "name": "stdout"
        }
      ]
    },
    {
      "cell_type": "markdown",
      "metadata": {
        "id": "yaFkti1lnOMr"
      },
      "source": [
        "**Listas em Python**"
      ]
    },
    {
      "cell_type": "code",
      "metadata": {
        "colab": {
          "base_uri": "https://localhost:8080/"
        },
        "id": "jMrsMg1ZnQ3t",
        "outputId": "3f42fdfe-6511-48cd-c138-85af883f1667"
      },
      "source": [
        "lista = [1, 3.5, 'Python', True] #contém diferente tipos de dados\n",
        "print(lista)"
      ],
      "execution_count": null,
      "outputs": [
        {
          "output_type": "stream",
          "text": [
            "[1, 3.5, 'Python', True]\n"
          ],
          "name": "stdout"
        }
      ]
    },
    {
      "cell_type": "code",
      "metadata": {
        "id": "1IPBM5mxrQf_"
      },
      "source": [
        "frutas = ['banana', 'laranja', 'abacate', 'melancia', 'caju', 'abacaxi']\n",
        "saldo_alunos = [500.00, 1200.00, 1000.00, 600.00, 5000.00]\n",
        "num_pacientes = [25, 36, 50, 45, 22, 33, 89, 89]"
      ],
      "execution_count": null,
      "outputs": []
    },
    {
      "cell_type": "code",
      "metadata": {
        "colab": {
          "base_uri": "https://localhost:8080/"
        },
        "id": "a_zsKJlXroD8",
        "outputId": "ab75f044-cfb0-4106-91b1-4de65e988f2d"
      },
      "source": [
        "print(frutas)"
      ],
      "execution_count": null,
      "outputs": [
        {
          "output_type": "stream",
          "text": [
            "['banana', 'laranja', 'abacate', 'melancia', 'caju', 'abacaxi']\n"
          ],
          "name": "stdout"
        }
      ]
    },
    {
      "cell_type": "code",
      "metadata": {
        "colab": {
          "base_uri": "https://localhost:8080/"
        },
        "id": "g6Zl0dSerqSH",
        "outputId": "817212bf-172b-4080-9dba-ff28ed467736"
      },
      "source": [
        "print(saldo_alunos)"
      ],
      "execution_count": null,
      "outputs": [
        {
          "output_type": "stream",
          "text": [
            "[500.0, 1200.0, 1000.0, 600.0, 5000.0]\n"
          ],
          "name": "stdout"
        }
      ]
    },
    {
      "cell_type": "code",
      "metadata": {
        "colab": {
          "base_uri": "https://localhost:8080/"
        },
        "id": "RvDLCRexrs0Q",
        "outputId": "333500b9-e532-417d-de43-9990a8194009"
      },
      "source": [
        "print(num_pacientes) #permite duplicados"
      ],
      "execution_count": null,
      "outputs": [
        {
          "output_type": "stream",
          "text": [
            "[25, 36, 50, 45, 22, 33, 89, 89]\n"
          ],
          "name": "stdout"
        }
      ]
    },
    {
      "cell_type": "code",
      "metadata": {
        "colab": {
          "base_uri": "https://localhost:8080/"
        },
        "id": "IbBucx4ssHeJ",
        "outputId": "82647076-78ae-4f05-a3ce-fde56d495b57"
      },
      "source": [
        "#calcular tamanho da lista\n",
        "len(saldo_alunos)"
      ],
      "execution_count": null,
      "outputs": [
        {
          "output_type": "execute_result",
          "data": {
            "text/plain": [
              "5"
            ]
          },
          "metadata": {
            "tags": []
          },
          "execution_count": 14
        }
      ]
    },
    {
      "cell_type": "code",
      "metadata": {
        "colab": {
          "base_uri": "https://localhost:8080/"
        },
        "id": "U8ou6jTNsxQf",
        "outputId": "8fdff35d-a0d6-44b0-82f1-ff520e28ee6c"
      },
      "source": [
        "#acessar um item da lista\n",
        "print(saldo_alunos[2])"
      ],
      "execution_count": null,
      "outputs": [
        {
          "output_type": "stream",
          "text": [
            "1000.0\n"
          ],
          "name": "stdout"
        }
      ]
    },
    {
      "cell_type": "code",
      "metadata": {
        "colab": {
          "base_uri": "https://localhost:8080/"
        },
        "id": "nyi_At0CtTJg",
        "outputId": "9c70c1ba-ce91-4a12-db47-164af88ee5b8"
      },
      "source": [
        "#Adicionando itens na lista\n",
        "frutas.append('morango')\n",
        "print(frutas)"
      ],
      "execution_count": null,
      "outputs": [
        {
          "output_type": "stream",
          "text": [
            "['banana', 'laranja', 'abacate', 'melancia', 'caju', 'abacaxi', 'morango']\n"
          ],
          "name": "stdout"
        }
      ]
    },
    {
      "cell_type": "code",
      "metadata": {
        "id": "EbvF1KFotnbc"
      },
      "source": [
        "#unir listas\n",
        "saldo_alunos.extend(num_pacientes)"
      ],
      "execution_count": null,
      "outputs": []
    },
    {
      "cell_type": "code",
      "metadata": {
        "colab": {
          "base_uri": "https://localhost:8080/"
        },
        "id": "ZdziC_7Vt3Xp",
        "outputId": "77ff2b41-0c9c-4cbe-bfc8-e97def0c8022"
      },
      "source": [
        "print(saldo_alunos)"
      ],
      "execution_count": null,
      "outputs": [
        {
          "output_type": "stream",
          "text": [
            "[500.0, 1200.0, 1000.0, 600.0, 5000.0, 25, 36, 50, 45, 22, 33, 89, 89]\n"
          ],
          "name": "stdout"
        }
      ]
    },
    {
      "cell_type": "markdown",
      "metadata": {
        "id": "JyAHdxNfuIeV"
      },
      "source": [
        "**Tuplas em Python**"
      ]
    },
    {
      "cell_type": "code",
      "metadata": {
        "id": "KlMB61MkuLJf"
      },
      "source": [
        "frutas = ('banana', 'laranja', 'abacate', 'melancia', 'caju', 'abacaxi')\n",
        "saldo_alunos = (500.00, 1200.00, 1000.00, 600.00, 5000.00)\n",
        "num_pacientes = (25, 36, 50, 45, 22, 33, 89, 89) #permite duplicados"
      ],
      "execution_count": null,
      "outputs": []
    },
    {
      "cell_type": "code",
      "metadata": {
        "colab": {
          "base_uri": "https://localhost:8080/"
        },
        "id": "O-CawZXEujm5",
        "outputId": "8965c429-01db-4d73-8de5-f7bc0cc90e5e"
      },
      "source": [
        "#os valores são indexados\n",
        "print(frutas[1:4])"
      ],
      "execution_count": null,
      "outputs": [
        {
          "output_type": "stream",
          "text": [
            "('laranja', 'abacate', 'melancia')\n"
          ],
          "name": "stdout"
        }
      ]
    },
    {
      "cell_type": "code",
      "metadata": {
        "id": "aUtKpwCZva7D"
      },
      "source": [
        "#juntar tuplas\n",
        "tupla_junto = frutas + num_pacientes"
      ],
      "execution_count": null,
      "outputs": []
    },
    {
      "cell_type": "code",
      "metadata": {
        "colab": {
          "base_uri": "https://localhost:8080/"
        },
        "id": "I3C4jQjXvlj8",
        "outputId": "c68bcc8a-12c6-4dd4-d869-7a4b2f7f99d6"
      },
      "source": [
        "print(tupla_junto)"
      ],
      "execution_count": null,
      "outputs": [
        {
          "output_type": "stream",
          "text": [
            "('banana', 'laranja', 'abacate', 'melancia', 'caju', 'abacaxi', 25, 36, 50, 45, 22, 33, 89, 89)\n"
          ],
          "name": "stdout"
        }
      ]
    },
    {
      "cell_type": "code",
      "metadata": {
        "colab": {
          "base_uri": "https://localhost:8080/"
        },
        "id": "H0UcAUJavsIR",
        "outputId": "ee97dae5-d675-4abd-e16b-2b1fb8703a8a"
      },
      "source": [
        "print(type(tupla_junto))"
      ],
      "execution_count": null,
      "outputs": [
        {
          "output_type": "stream",
          "text": [
            "<class 'tuple'>\n"
          ],
          "name": "stdout"
        }
      ]
    },
    {
      "cell_type": "code",
      "metadata": {
        "id": "VBBcsRPxv9Ot"
      },
      "source": [
        "#contar valores repetidos\n",
        "num_pacientes_x = (25, 36, 50, 45, 22, 33, 89, 89, 89, 89, 25, 36, 50, 45, 22, 33,\n",
        "                 25, 36, 50, 45, 22, 33, 25, 36, 50, 45, 22, 33, 25, 36, 50, 45, 22, 33)"
      ],
      "execution_count": null,
      "outputs": []
    },
    {
      "cell_type": "code",
      "metadata": {
        "colab": {
          "base_uri": "https://localhost:8080/"
        },
        "id": "rVEG_oyfwN36",
        "outputId": "93f8ac66-7856-44c9-8eb8-9dfc1e65f723"
      },
      "source": [
        "num_pacientes_x.count(45)"
      ],
      "execution_count": null,
      "outputs": [
        {
          "output_type": "execute_result",
          "data": {
            "text/plain": [
              "5"
            ]
          },
          "metadata": {
            "tags": []
          },
          "execution_count": 35
        }
      ]
    },
    {
      "cell_type": "markdown",
      "metadata": {
        "id": "yvjCMPxlw5It"
      },
      "source": [
        "**Set em Python**"
      ]
    },
    {
      "cell_type": "code",
      "metadata": {
        "id": "kj3vwGr-w81z"
      },
      "source": [
        "cidade = {'Belo Horizonte', 'Manaus', 'Fortaleza', 'Natal'}"
      ],
      "execution_count": null,
      "outputs": []
    },
    {
      "cell_type": "code",
      "metadata": {
        "colab": {
          "base_uri": "https://localhost:8080/"
        },
        "id": "UjJeV0xFxjB6",
        "outputId": "1dfbb302-2b9e-40b6-e17c-740a2eb827cc"
      },
      "source": [
        "#print(type(cidade))\n",
        "print(cidade)"
      ],
      "execution_count": null,
      "outputs": [
        {
          "output_type": "stream",
          "text": [
            "{'Manaus', 'Fortaleza', 'Belo Horizonte', 'Natal'}\n"
          ],
          "name": "stdout"
        }
      ]
    },
    {
      "cell_type": "code",
      "metadata": {
        "id": "WiWefDUzx2DG"
      },
      "source": [
        "#não permite valores duplicados\n",
        "cidade_repete = {'Belo Horizonte', 'Manaus', 'Fortaleza', 'Natal', 'Belo Horizonte', 'Manaus', 'Fortaleza', 'Natal'}"
      ],
      "execution_count": null,
      "outputs": []
    },
    {
      "cell_type": "code",
      "metadata": {
        "colab": {
          "base_uri": "https://localhost:8080/"
        },
        "id": "iiVz1iZlx-Vr",
        "outputId": "9f3177a9-f37d-48d7-807b-4a3ddba48224"
      },
      "source": [
        "print(cidade_repete)"
      ],
      "execution_count": null,
      "outputs": [
        {
          "output_type": "stream",
          "text": [
            "{'Manaus', 'Fortaleza', 'Belo Horizonte', 'Natal'}\n"
          ],
          "name": "stdout"
        }
      ]
    },
    {
      "cell_type": "code",
      "metadata": {
        "id": "JNfNR6UOyaWM"
      },
      "source": [
        "#checando valores em set\n",
        "cidade_x = {'Belo Horizonte', 'Manaus', 'Fortaleza', 'Natal'}"
      ],
      "execution_count": null,
      "outputs": []
    },
    {
      "cell_type": "code",
      "metadata": {
        "colab": {
          "base_uri": "https://localhost:8080/"
        },
        "id": "IA9xeQzEyleS",
        "outputId": "9fb6dc59-1506-44e0-d65e-83b53104c6a9"
      },
      "source": [
        "print('Manaus' in cidade)"
      ],
      "execution_count": null,
      "outputs": [
        {
          "output_type": "stream",
          "text": [
            "True\n"
          ],
          "name": "stdout"
        }
      ]
    },
    {
      "cell_type": "code",
      "metadata": {
        "id": "G6BF5kMrzEgE"
      },
      "source": [
        "#adicionando um item ao set\n",
        "cidade.add('Rio de Janeiro')"
      ],
      "execution_count": null,
      "outputs": []
    },
    {
      "cell_type": "code",
      "metadata": {
        "colab": {
          "base_uri": "https://localhost:8080/"
        },
        "id": "T_nKzPQRzLg6",
        "outputId": "d384ffb4-65da-4112-eb6a-c49c2ac5b0e9"
      },
      "source": [
        "print(cidade)"
      ],
      "execution_count": null,
      "outputs": [
        {
          "output_type": "stream",
          "text": [
            "{'Belo Horizonte', 'Manaus', 'Fortaleza', 'Natal', 'Rio de Janeiro'}\n"
          ],
          "name": "stdout"
        }
      ]
    },
    {
      "cell_type": "code",
      "metadata": {
        "id": "3bNvZyf-zYq9"
      },
      "source": [
        "#Unindo Sets\n",
        "cidades_2 = {'Recife', 'Salvador', 'Campo Grande'}"
      ],
      "execution_count": null,
      "outputs": []
    },
    {
      "cell_type": "code",
      "metadata": {
        "id": "1y0JQAM-zfii"
      },
      "source": [
        "cidade.update(cidades_2)"
      ],
      "execution_count": null,
      "outputs": []
    },
    {
      "cell_type": "code",
      "metadata": {
        "colab": {
          "base_uri": "https://localhost:8080/"
        },
        "id": "1xNXvY1AzjUx",
        "outputId": "5b1c3943-3bdf-4d1c-e2b8-34610d13d8ac"
      },
      "source": [
        "print(cidade)"
      ],
      "execution_count": null,
      "outputs": [
        {
          "output_type": "stream",
          "text": [
            "{'Campo Grande', 'Belo Horizonte', 'Recife', 'Manaus', 'Fortaleza', 'Natal', 'Rio de Janeiro', 'Salvador'}\n"
          ],
          "name": "stdout"
        }
      ]
    },
    {
      "cell_type": "markdown",
      "metadata": {
        "id": "git755EB12lh"
      },
      "source": [
        "**Dicionários em Python**"
      ]
    },
    {
      "cell_type": "code",
      "metadata": {
        "id": "d9ZShQjZ15Lj"
      },
      "source": [
        "cod_uf = {\n",
        "  21:'Maranhão',\n",
        "  22:'Piauí',\n",
        "  23:'Ceará',\n",
        "  24:'Rio Grande do Norte',\n",
        "  25:'Paraíba',\n",
        "  26:'Pernambuco',\n",
        "  27:'Alagoas',\n",
        "  28:'Sergipe',\n",
        "  29:'Bahia'\n",
        "}"
      ],
      "execution_count": null,
      "outputs": []
    },
    {
      "cell_type": "code",
      "metadata": {
        "colab": {
          "base_uri": "https://localhost:8080/"
        },
        "id": "hIF38XFX2n99",
        "outputId": "fc0dd5b3-25c0-466a-ca8d-32c9e3a15a62"
      },
      "source": [
        "print(type(cod_uf))"
      ],
      "execution_count": null,
      "outputs": [
        {
          "output_type": "stream",
          "text": [
            "<class 'dict'>\n"
          ],
          "name": "stdout"
        }
      ]
    },
    {
      "cell_type": "code",
      "metadata": {
        "colab": {
          "base_uri": "https://localhost:8080/"
        },
        "id": "M_fCLFEc2vXL",
        "outputId": "354f100f-f4af-4af9-bef2-1e4a4e3700ca"
      },
      "source": [
        "print(cod_uf) #valores ordenados a partir do python 3.7"
      ],
      "execution_count": null,
      "outputs": [
        {
          "output_type": "stream",
          "text": [
            "{21: 'Maranhão', 22: 'Piauí', 23: 'Ceará', 24: 'Rio Grande do Norte', 25: 'Paraíba', 26: 'Pernambuco', 27: 'Alagoas', 28: 'Sergipe', 29: 'Bahia'}\n"
          ],
          "name": "stdout"
        }
      ]
    },
    {
      "cell_type": "code",
      "metadata": {
        "colab": {
          "base_uri": "https://localhost:8080/"
        },
        "id": "T7UeiaZb27TB",
        "outputId": "077dc2d4-cf3a-464e-f834-0364b01a7e05"
      },
      "source": [
        "cod_uf.values()"
      ],
      "execution_count": null,
      "outputs": [
        {
          "output_type": "execute_result",
          "data": {
            "text/plain": [
              "dict_values(['Maranhão', 'Piauí', 'Ceará', 'Rio Grande do Norte', 'Paraíba', 'Pernambuco', 'Alagoas', 'Sergipe', 'Bahia'])"
            ]
          },
          "metadata": {
            "tags": []
          },
          "execution_count": 61
        }
      ]
    },
    {
      "cell_type": "code",
      "metadata": {
        "id": "mFemg5MM3Eqv"
      },
      "source": [
        "#duplicados não permitidos\n",
        "cod_uf_x = {\n",
        "  21:'Maranhão',\n",
        "  22:'Piauí',\n",
        "  23:'Ceará',\n",
        "  24:'Rio Grande do Norte',\n",
        "  25:'Paraíba',\n",
        "  26:'Pernambuco',\n",
        "  27:'Alagoas',\n",
        "  28:'Sergipe',\n",
        "  29:'Bahia',\n",
        "  21:'Maranhão',\n",
        "  22:'Piauí',\n",
        "  23:'Ceará',\n",
        "  24:'Rio Grande do Norte',\n",
        "  25:'Paraíba',\n",
        "  26:'Pernambuco',\n",
        "  27:'Alagoas',\n",
        "  28:'Sergipe'\n",
        "}\n"
      ],
      "execution_count": null,
      "outputs": []
    },
    {
      "cell_type": "code",
      "metadata": {
        "colab": {
          "base_uri": "https://localhost:8080/"
        },
        "id": "uP_jmEfB3on5",
        "outputId": "2be192ea-ab22-4645-932f-e85171ab60bf"
      },
      "source": [
        "print(cod_uf_x)"
      ],
      "execution_count": null,
      "outputs": [
        {
          "output_type": "stream",
          "text": [
            "{21: 'Maranhão', 22: 'Piauí', 23: 'Ceará', 24: 'Rio Grande do Norte', 25: 'Paraíba', 26: 'Pernambuco', 27: 'Alagoas', 28: 'Sergipe', 29: 'Bahia'}\n"
          ],
          "name": "stdout"
        }
      ]
    },
    {
      "cell_type": "code",
      "metadata": {
        "colab": {
          "base_uri": "https://localhost:8080/",
          "height": 35
        },
        "id": "OxOlwzX34eXp",
        "outputId": "e5d857fc-bf37-44c4-e05e-22748a446731"
      },
      "source": [
        "#acessando valores\n",
        "cod_uf.get(22)"
      ],
      "execution_count": null,
      "outputs": [
        {
          "output_type": "execute_result",
          "data": {
            "application/vnd.google.colaboratory.intrinsic+json": {
              "type": "string"
            },
            "text/plain": [
              "'Piauí'"
            ]
          },
          "metadata": {
            "tags": []
          },
          "execution_count": 65
        }
      ]
    },
    {
      "cell_type": "code",
      "metadata": {
        "colab": {
          "base_uri": "https://localhost:8080/"
        },
        "id": "ofrhRFbi4qlt",
        "outputId": "cd2aee7a-9819-4fb2-ecf3-da20585eff35"
      },
      "source": [
        "cod_uf.keys()"
      ],
      "execution_count": null,
      "outputs": [
        {
          "output_type": "execute_result",
          "data": {
            "text/plain": [
              "dict_keys([21, 22, 23, 24, 25, 26, 27, 28, 29])"
            ]
          },
          "metadata": {
            "tags": []
          },
          "execution_count": 66
        }
      ]
    },
    {
      "cell_type": "code",
      "metadata": {
        "id": "Qe7rxShg5PEM"
      },
      "source": [
        "#Adicionando novos valores\n",
        "cod_uf[30] = 'Estado Vira-lata Caramelo'"
      ],
      "execution_count": null,
      "outputs": []
    },
    {
      "cell_type": "code",
      "metadata": {
        "colab": {
          "base_uri": "https://localhost:8080/"
        },
        "id": "VEGsIJ3B5ZVW",
        "outputId": "92715027-0e37-4ceb-c2e2-825bc7c2ce7b"
      },
      "source": [
        "print(cod_uf)"
      ],
      "execution_count": null,
      "outputs": [
        {
          "output_type": "stream",
          "text": [
            "{21: 'Maranhão', 22: 'Piauí', 23: 'Ceará', 24: 'Rio Grande do Norte', 25: 'Paraíba', 26: 'Pernambuco', 27: 'Alagoas', 28: 'Sergipe', 29: 'Bahia', 30: 'Estado Vira-lata Caramelo'}\n"
          ],
          "name": "stdout"
        }
      ]
    },
    {
      "cell_type": "markdown",
      "metadata": {
        "id": "Bv7YRh9tX4db"
      },
      "source": [
        "**If em Python**"
      ]
    },
    {
      "cell_type": "code",
      "metadata": {
        "id": "o8NGZ8JSX7bl"
      },
      "source": [
        "#criando varias de exemplo\n",
        "a = 50\n",
        "b = 100\n",
        "c = 50\n"
      ],
      "execution_count": null,
      "outputs": []
    },
    {
      "cell_type": "code",
      "metadata": {
        "colab": {
          "base_uri": "https://localhost:8080/"
        },
        "id": "lhPR2_IFYRdf",
        "outputId": "c84cd51d-25cf-4e48-cfc4-036873fefac1"
      },
      "source": [
        "#IGUAL\n",
        "\n",
        "if a == c:\n",
        "  print('A é igual a C')"
      ],
      "execution_count": null,
      "outputs": [
        {
          "output_type": "stream",
          "text": [
            "A é igual a C\n"
          ],
          "name": "stdout"
        }
      ]
    },
    {
      "cell_type": "code",
      "metadata": {
        "colab": {
          "base_uri": "https://localhost:8080/"
        },
        "id": "JgBEMdHYYfZ6",
        "outputId": "7f14943c-e608-4a00-e53e-11ba8be77266"
      },
      "source": [
        "#DIFERENTE\n",
        "\n",
        "if a != b:\n",
        "  print('A é diferente de B')"
      ],
      "execution_count": null,
      "outputs": [
        {
          "output_type": "stream",
          "text": [
            "A é diferente de B\n"
          ],
          "name": "stdout"
        }
      ]
    },
    {
      "cell_type": "code",
      "metadata": {
        "colab": {
          "base_uri": "https://localhost:8080/"
        },
        "id": "UpL7hBaaYsla",
        "outputId": "ff7c9f74-b390-43ab-c0b5-ee75430095f3"
      },
      "source": [
        "#MENORQ\n",
        "\n",
        "if a < b:\n",
        "  print('A é menor que B')"
      ],
      "execution_count": null,
      "outputs": [
        {
          "output_type": "stream",
          "text": [
            "A é menor que B\n"
          ],
          "name": "stdout"
        }
      ]
    },
    {
      "cell_type": "code",
      "metadata": {
        "colab": {
          "base_uri": "https://localhost:8080/"
        },
        "id": "-vy3B5Z-YyE1",
        "outputId": "3e55a564-df68-4707-f361-a43922946f36"
      },
      "source": [
        "#Menor ou igual que\n",
        "\n",
        "if a <= b:\n",
        "  print('A é menor ou igual do que B')"
      ],
      "execution_count": null,
      "outputs": [
        {
          "output_type": "stream",
          "text": [
            "A é menor ou igual do que B\n"
          ],
          "name": "stdout"
        }
      ]
    },
    {
      "cell_type": "code",
      "metadata": {
        "colab": {
          "base_uri": "https://localhost:8080/"
        },
        "id": "_wrqm47sY6Ma",
        "outputId": "3e187397-9f4b-4873-b8ad-abc1d1f6878d"
      },
      "source": [
        "#MaiorQ\n",
        "\n",
        "if b > c:\n",
        "  print('B é maior que C')"
      ],
      "execution_count": null,
      "outputs": [
        {
          "output_type": "stream",
          "text": [
            "B é maior que C\n"
          ],
          "name": "stdout"
        }
      ]
    },
    {
      "cell_type": "markdown",
      "metadata": {
        "id": "x68u77kIdl0C"
      },
      "source": [
        "**Elif em Python**"
      ]
    },
    {
      "cell_type": "code",
      "metadata": {
        "colab": {
          "base_uri": "https://localhost:8080/"
        },
        "id": "DJ8EW1Tvdp7h",
        "outputId": "2c935040-d818-4010-d393-983dd08e0c02"
      },
      "source": [
        "idade = int (input('Digite a sua idade: '))\n",
        "\n",
        "if idade >= 18:\n",
        "  print('Você já pode dirigir.')\n",
        "elif idade < 18:\n",
        "  print('Você não pode dirigir.')"
      ],
      "execution_count": null,
      "outputs": [
        {
          "output_type": "stream",
          "text": [
            "Digite a sua idade: 19\n",
            "Você já pode dirigir.\n"
          ],
          "name": "stdout"
        }
      ]
    },
    {
      "cell_type": "markdown",
      "metadata": {
        "id": "5ccvDTPEiI4a"
      },
      "source": [
        "**Loops em Python**"
      ]
    },
    {
      "cell_type": "code",
      "metadata": {
        "colab": {
          "base_uri": "https://localhost:8080/"
        },
        "id": "0ckhz4tXiKjY",
        "outputId": "44552073-f72b-41d9-9066-a3e50e5df2d7"
      },
      "source": [
        "trabalho = input('Você deve trabalhar hoje? ')\n",
        "dia = input('O dia está bonito? ')\n",
        "preguica = input('Você está com preguica? ')"
      ],
      "execution_count": null,
      "outputs": [
        {
          "output_type": "stream",
          "text": [
            "Você deve trabalhar hoje? não\n",
            "O dia está bonito? sim\n",
            "Você está com preguica? sim\n"
          ],
          "name": "stdout"
        }
      ]
    },
    {
      "cell_type": "code",
      "metadata": {
        "colab": {
          "base_uri": "https://localhost:8080/"
        },
        "id": "MkCbwmzDiszL",
        "outputId": "ddb6e968-57ed-4a16-ed6f-5390c9c6079a"
      },
      "source": [
        "# Loop da vida\n",
        "\n",
        "if trabalho == 'sim':\n",
        "  print('É uma pena')\n",
        "elif trabalho == 'não':\n",
        "  print('Aproveite o dia')\n",
        "\n",
        "if dia == 'sim' and trabalho == 'não':\n",
        "  print('Aproveite para caminhar')\n",
        "elif dia == 'não' and trabalho == 'não':\n",
        "  print('Aproveite e assista um filme')\n",
        "\n",
        "if preguica == 'sim' and trabalho == 'não':\n",
        "  print('Aproveita e dorme mais')\n",
        "elif preguica == 'não' and trabalho == 'não':\n",
        "  print('Que tal estudar Python?')"
      ],
      "execution_count": null,
      "outputs": [
        {
          "output_type": "stream",
          "text": [
            "Aproveite o dia\n",
            "Aproveite para caminhar\n",
            "Aproveita e dorme mais\n"
          ],
          "name": "stdout"
        }
      ]
    },
    {
      "cell_type": "markdown",
      "metadata": {
        "id": "eeA3qekGklrc"
      },
      "source": [
        "**For em Python**"
      ]
    },
    {
      "cell_type": "code",
      "metadata": {
        "id": "adGZ7T4bko3S"
      },
      "source": [
        "#FOR\n",
        "for i in variavel:\n",
        "  print(i)"
      ],
      "execution_count": null,
      "outputs": []
    },
    {
      "cell_type": "code",
      "metadata": {
        "id": "5XO_xt4klt7n"
      },
      "source": [
        "#FOR EM LINHAS\n",
        "cor = ['verde', 'amarelo', 'azul', 'cinza', 'vermelho']"
      ],
      "execution_count": null,
      "outputs": []
    },
    {
      "cell_type": "code",
      "metadata": {
        "colab": {
          "base_uri": "https://localhost:8080/"
        },
        "id": "Ue1kDGq0mEW_",
        "outputId": "d37955f2-e106-4900-a01b-1a0e8715d5a6"
      },
      "source": [
        "for i in cor:\n",
        "  print(i)"
      ],
      "execution_count": null,
      "outputs": [
        {
          "output_type": "stream",
          "text": [
            "verde\n",
            "amarelo\n",
            "azul\n",
            "cinza\n",
            "vermelho\n"
          ],
          "name": "stdout"
        }
      ]
    },
    {
      "cell_type": "code",
      "metadata": {
        "id": "RbzaFZ5xlv-C"
      },
      "source": [
        "#FOR EM STRINGS\n",
        "for x in 'pneumoultramicroscopicossilicovulcanoconiótico':\n",
        "  print(x)"
      ],
      "execution_count": null,
      "outputs": []
    },
    {
      "cell_type": "code",
      "metadata": {
        "id": "GKrOtCMLlynz"
      },
      "source": [
        "#FOR E BREAK\n",
        "numeros = (1, 2, 3, 4, 5, 6, 7, 8, 9, 10)"
      ],
      "execution_count": null,
      "outputs": []
    },
    {
      "cell_type": "code",
      "metadata": {
        "id": "MERaqXKfm4De"
      },
      "source": [
        "for i in numeros:\n",
        "  print(i)"
      ],
      "execution_count": null,
      "outputs": []
    },
    {
      "cell_type": "code",
      "metadata": {
        "id": "xaqp63FknAfL"
      },
      "source": [
        "for x in numeros:\n",
        "  print(x)\n",
        "  if x == 7:\n",
        "    break"
      ],
      "execution_count": null,
      "outputs": []
    },
    {
      "cell_type": "markdown",
      "metadata": {
        "id": "Q7WSiKvkvAaU"
      },
      "source": [
        "**While em Python**"
      ]
    },
    {
      "cell_type": "code",
      "metadata": {
        "id": "PHzVImfovFKk"
      },
      "source": [
        "num = 1\n",
        "\n",
        "while num < 10:\n",
        "  print(num)\n",
        "  num += 1"
      ],
      "execution_count": null,
      "outputs": []
    },
    {
      "cell_type": "code",
      "metadata": {
        "id": "66XOMpUEvyOM"
      },
      "source": [
        "#BREAK\n",
        "num = 1\n",
        "while num < 10:\n",
        "  print(num)\n",
        "  if num == 6:\n",
        "    break\n",
        "  num += 1"
      ],
      "execution_count": null,
      "outputs": []
    },
    {
      "cell_type": "code",
      "metadata": {
        "id": "Wjz75av-v0Gl"
      },
      "source": [
        "#CONTINUE\n",
        "num = 0\n",
        "\n",
        "while num < 21:\n",
        "  num += 1\n",
        "  if num == 12:\n",
        "    continue\n",
        "  print(num)"
      ],
      "execution_count": null,
      "outputs": []
    },
    {
      "cell_type": "markdown",
      "metadata": {
        "id": "T0Yqp3ghxgAz"
      },
      "source": [
        "**Range em Python**"
      ]
    },
    {
      "cell_type": "code",
      "metadata": {
        "id": "w7HBeElGxi0J"
      },
      "source": [
        "#range(inicio, termino, salto) - argumentos\n",
        "#geralmente utilizado com o laço for\n",
        "\n",
        "for i in range(0,21,2):\n",
        "  print(i)\n"
      ],
      "execution_count": null,
      "outputs": []
    },
    {
      "cell_type": "markdown",
      "metadata": {
        "id": "YyxwRJ7Eybxi"
      },
      "source": [
        "**Def em Python**"
      ]
    },
    {
      "cell_type": "code",
      "metadata": {
        "id": "xNwh3NinyeD1"
      },
      "source": [
        "def soma(x,y):\n",
        "  print(x+y)"
      ],
      "execution_count": null,
      "outputs": []
    },
    {
      "cell_type": "code",
      "metadata": {
        "id": "6xTdOzCbzNPH"
      },
      "source": [
        "soma(2,2)"
      ],
      "execution_count": null,
      "outputs": []
    },
    {
      "cell_type": "code",
      "metadata": {
        "id": "eveAB3OtzgwL"
      },
      "source": [
        "def imc(peso, altura):\n",
        "  imc = peso / (altura ** 2)\n",
        "  if imc <  18.5:\n",
        "    print('Magreza')\n",
        "  elif imc >= 18.5 and imc <= 24.9:\n",
        "    print('Normal')\n",
        "  elif imc >= 25.0 and imc <= 29.9:\n",
        "    print('Sobrepeso')\n",
        "  elif imc >= 30.0 and imc <= 39.9:\n",
        "    print('Obesidade I')\n",
        "  else:\n",
        "    print('Obesidade II')\n",
        "  return"
      ],
      "execution_count": null,
      "outputs": []
    },
    {
      "cell_type": "code",
      "metadata": {
        "colab": {
          "base_uri": "https://localhost:8080/"
        },
        "id": "fiDhAqFB1Kki",
        "outputId": "39987b0b-b00b-458e-eff8-aaf0b9f01aa5"
      },
      "source": [
        "imc(72,1.87)"
      ],
      "execution_count": null,
      "outputs": [
        {
          "output_type": "stream",
          "text": [
            "Normal\n"
          ],
          "name": "stdout"
        }
      ]
    },
    {
      "cell_type": "markdown",
      "metadata": {
        "id": "pIfSlRgi1vPV"
      },
      "source": [
        "**Lambda em Python (funções anônimas)**"
      ]
    },
    {
      "cell_type": "code",
      "metadata": {
        "id": "LHeTvbk11x3z"
      },
      "source": [
        "somal = lambda x, y: x + y"
      ],
      "execution_count": null,
      "outputs": []
    },
    {
      "cell_type": "code",
      "metadata": {
        "id": "8sGqCqOa3cfd"
      },
      "source": [
        "somal(2,2)"
      ],
      "execution_count": null,
      "outputs": []
    },
    {
      "cell_type": "markdown",
      "metadata": {
        "id": "JFTeEH0tVhtO"
      },
      "source": [
        "**Módulos em Python**"
      ]
    },
    {
      "cell_type": "code",
      "metadata": {
        "id": "jJ-x0LiuVk9D"
      },
      "source": [
        "#import math \n",
        "#from math import factorial"
      ],
      "execution_count": null,
      "outputs": []
    },
    {
      "cell_type": "code",
      "metadata": {
        "id": "QQ_HMzDweRRA"
      },
      "source": [
        "import math"
      ],
      "execution_count": null,
      "outputs": []
    },
    {
      "cell_type": "code",
      "metadata": {
        "colab": {
          "base_uri": "https://localhost:8080/"
        },
        "id": "avTk9NNxfv9K",
        "outputId": "f500fc15-a0fc-448e-c059-1ae3f6a6c1b4"
      },
      "source": [
        "math.sqrt(9)"
      ],
      "execution_count": null,
      "outputs": [
        {
          "output_type": "execute_result",
          "data": {
            "text/plain": [
              "3.0"
            ]
          },
          "metadata": {
            "tags": []
          },
          "execution_count": 5
        }
      ]
    },
    {
      "cell_type": "markdown",
      "metadata": {
        "id": "dk_xaXDyxIH4"
      },
      "source": [
        "**Pacotes em Python**"
      ]
    },
    {
      "cell_type": "code",
      "metadata": {
        "colab": {
          "base_uri": "https://localhost:8080/"
        },
        "id": "FWSPWrxKxNBl",
        "outputId": "fdea9164-870c-4b40-be9d-1bd0f3941808"
      },
      "source": [
        "#instalando pacotes no colab\n",
        "!pip install seaborn"
      ],
      "execution_count": null,
      "outputs": [
        {
          "output_type": "stream",
          "text": [
            "Requirement already satisfied: seaborn in /usr/local/lib/python3.7/dist-packages (0.11.1)\n",
            "Requirement already satisfied: pandas>=0.23 in /usr/local/lib/python3.7/dist-packages (from seaborn) (1.1.5)\n",
            "Requirement already satisfied: scipy>=1.0 in /usr/local/lib/python3.7/dist-packages (from seaborn) (1.4.1)\n",
            "Requirement already satisfied: numpy>=1.15 in /usr/local/lib/python3.7/dist-packages (from seaborn) (1.19.5)\n",
            "Requirement already satisfied: matplotlib>=2.2 in /usr/local/lib/python3.7/dist-packages (from seaborn) (3.2.2)\n",
            "Requirement already satisfied: kiwisolver>=1.0.1 in /usr/local/lib/python3.7/dist-packages (from matplotlib>=2.2->seaborn) (1.3.1)\n",
            "Requirement already satisfied: pyparsing!=2.0.4,!=2.1.2,!=2.1.6,>=2.0.1 in /usr/local/lib/python3.7/dist-packages (from matplotlib>=2.2->seaborn) (2.4.7)\n",
            "Requirement already satisfied: python-dateutil>=2.1 in /usr/local/lib/python3.7/dist-packages (from matplotlib>=2.2->seaborn) (2.8.1)\n",
            "Requirement already satisfied: cycler>=0.10 in /usr/local/lib/python3.7/dist-packages (from matplotlib>=2.2->seaborn) (0.10.0)\n",
            "Requirement already satisfied: six in /usr/local/lib/python3.7/dist-packages (from cycler>=0.10->matplotlib>=2.2->seaborn) (1.15.0)\n",
            "Requirement already satisfied: pytz>=2017.2 in /usr/local/lib/python3.7/dist-packages (from pandas>=0.23->seaborn) (2018.9)\n"
          ],
          "name": "stdout"
        }
      ]
    },
    {
      "cell_type": "code",
      "metadata": {
        "colab": {
          "base_uri": "https://localhost:8080/"
        },
        "id": "zs1TmoZ4xhLZ",
        "outputId": "c6a0a1cf-8c70-40e7-85a3-ccd68b95b90a"
      },
      "source": [
        "!pip install geopandas"
      ],
      "execution_count": null,
      "outputs": [
        {
          "output_type": "stream",
          "text": [
            "Collecting geopandas\n",
            "  Downloading geopandas-0.9.0-py2.py3-none-any.whl (994 kB)\n",
            "\u001b[K     |████████████████████████████████| 994 kB 4.9 MB/s \n",
            "\u001b[?25hCollecting fiona>=1.8\n",
            "  Downloading Fiona-1.8.20-cp37-cp37m-manylinux1_x86_64.whl (15.4 MB)\n",
            "\u001b[K     |████████████████████████████████| 15.4 MB 37 kB/s \n",
            "\u001b[?25hCollecting pyproj>=2.2.0\n",
            "  Downloading pyproj-3.1.0-cp37-cp37m-manylinux2010_x86_64.whl (6.6 MB)\n",
            "\u001b[K     |████████████████████████████████| 6.6 MB 44.0 MB/s \n",
            "\u001b[?25hRequirement already satisfied: pandas>=0.24.0 in /usr/local/lib/python3.7/dist-packages (from geopandas) (1.1.5)\n",
            "Requirement already satisfied: shapely>=1.6 in /usr/local/lib/python3.7/dist-packages (from geopandas) (1.7.1)\n",
            "Requirement already satisfied: setuptools in /usr/local/lib/python3.7/dist-packages (from fiona>=1.8->geopandas) (57.2.0)\n",
            "Requirement already satisfied: certifi in /usr/local/lib/python3.7/dist-packages (from fiona>=1.8->geopandas) (2021.5.30)\n",
            "Requirement already satisfied: click>=4.0 in /usr/local/lib/python3.7/dist-packages (from fiona>=1.8->geopandas) (7.1.2)\n",
            "Requirement already satisfied: attrs>=17 in /usr/local/lib/python3.7/dist-packages (from fiona>=1.8->geopandas) (21.2.0)\n",
            "Requirement already satisfied: six>=1.7 in /usr/local/lib/python3.7/dist-packages (from fiona>=1.8->geopandas) (1.15.0)\n",
            "Collecting click-plugins>=1.0\n",
            "  Downloading click_plugins-1.1.1-py2.py3-none-any.whl (7.5 kB)\n",
            "Collecting munch\n",
            "  Downloading munch-2.5.0-py2.py3-none-any.whl (10 kB)\n",
            "Collecting cligj>=0.5\n",
            "  Downloading cligj-0.7.2-py3-none-any.whl (7.1 kB)\n",
            "Requirement already satisfied: pytz>=2017.2 in /usr/local/lib/python3.7/dist-packages (from pandas>=0.24.0->geopandas) (2018.9)\n",
            "Requirement already satisfied: numpy>=1.15.4 in /usr/local/lib/python3.7/dist-packages (from pandas>=0.24.0->geopandas) (1.19.5)\n",
            "Requirement already satisfied: python-dateutil>=2.7.3 in /usr/local/lib/python3.7/dist-packages (from pandas>=0.24.0->geopandas) (2.8.1)\n",
            "Installing collected packages: munch, cligj, click-plugins, pyproj, fiona, geopandas\n",
            "Successfully installed click-plugins-1.1.1 cligj-0.7.2 fiona-1.8.20 geopandas-0.9.0 munch-2.5.0 pyproj-3.1.0\n"
          ],
          "name": "stdout"
        }
      ]
    },
    {
      "cell_type": "code",
      "metadata": {
        "colab": {
          "base_uri": "https://localhost:8080/"
        },
        "id": "BT5zmB7BxofZ",
        "outputId": "884e7090-aaad-404a-a6b9-abae8aa64e73"
      },
      "source": [
        "!pip install --upgrade seaborn"
      ],
      "execution_count": null,
      "outputs": [
        {
          "output_type": "stream",
          "text": [
            "Requirement already satisfied: seaborn in /usr/local/lib/python3.7/dist-packages (0.11.1)\n",
            "Requirement already satisfied: matplotlib>=2.2 in /usr/local/lib/python3.7/dist-packages (from seaborn) (3.2.2)\n",
            "Requirement already satisfied: numpy>=1.15 in /usr/local/lib/python3.7/dist-packages (from seaborn) (1.19.5)\n",
            "Requirement already satisfied: scipy>=1.0 in /usr/local/lib/python3.7/dist-packages (from seaborn) (1.4.1)\n",
            "Requirement already satisfied: pandas>=0.23 in /usr/local/lib/python3.7/dist-packages (from seaborn) (1.1.5)\n",
            "Requirement already satisfied: pyparsing!=2.0.4,!=2.1.2,!=2.1.6,>=2.0.1 in /usr/local/lib/python3.7/dist-packages (from matplotlib>=2.2->seaborn) (2.4.7)\n",
            "Requirement already satisfied: python-dateutil>=2.1 in /usr/local/lib/python3.7/dist-packages (from matplotlib>=2.2->seaborn) (2.8.1)\n",
            "Requirement already satisfied: cycler>=0.10 in /usr/local/lib/python3.7/dist-packages (from matplotlib>=2.2->seaborn) (0.10.0)\n",
            "Requirement already satisfied: kiwisolver>=1.0.1 in /usr/local/lib/python3.7/dist-packages (from matplotlib>=2.2->seaborn) (1.3.1)\n",
            "Requirement already satisfied: six in /usr/local/lib/python3.7/dist-packages (from cycler>=0.10->matplotlib>=2.2->seaborn) (1.15.0)\n",
            "Requirement already satisfied: pytz>=2017.2 in /usr/local/lib/python3.7/dist-packages (from pandas>=0.23->seaborn) (2018.9)\n"
          ],
          "name": "stdout"
        }
      ]
    },
    {
      "cell_type": "code",
      "metadata": {
        "id": "nl4Ydchyx6l2"
      },
      "source": [
        "#!pip install seaborn==0.9.0 / instalar outras versoes"
      ],
      "execution_count": null,
      "outputs": []
    },
    {
      "cell_type": "code",
      "metadata": {
        "colab": {
          "base_uri": "https://localhost:8080/"
        },
        "id": "yCAehJvKyPIu",
        "outputId": "b4c89dfc-9bc9-4f47-ca35-0462add115fd"
      },
      "source": [
        "!pip install pandas"
      ],
      "execution_count": null,
      "outputs": [
        {
          "output_type": "stream",
          "text": [
            "Requirement already satisfied: pandas in /usr/local/lib/python3.7/dist-packages (1.1.5)\n",
            "Requirement already satisfied: python-dateutil>=2.7.3 in /usr/local/lib/python3.7/dist-packages (from pandas) (2.8.1)\n",
            "Requirement already satisfied: pytz>=2017.2 in /usr/local/lib/python3.7/dist-packages (from pandas) (2018.9)\n",
            "Requirement already satisfied: numpy>=1.15.4 in /usr/local/lib/python3.7/dist-packages (from pandas) (1.19.5)\n",
            "Requirement already satisfied: six>=1.5 in /usr/local/lib/python3.7/dist-packages (from python-dateutil>=2.7.3->pandas) (1.15.0)\n"
          ],
          "name": "stdout"
        }
      ]
    },
    {
      "cell_type": "code",
      "metadata": {
        "id": "B-o4PhOT42ls"
      },
      "source": [
        "#importando pacotes em python\n",
        "import pandas as pd\n",
        "import numpy as np"
      ],
      "execution_count": null,
      "outputs": []
    },
    {
      "cell_type": "code",
      "metadata": {
        "id": "xeMuB2fa6RHY"
      },
      "source": [
        "pd.read_csv('')"
      ],
      "execution_count": null,
      "outputs": []
    },
    {
      "cell_type": "code",
      "metadata": {
        "id": "FA5cLM4V6eca"
      },
      "source": [
        "np.T"
      ],
      "execution_count": null,
      "outputs": []
    }
  ]
}